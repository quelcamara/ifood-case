{
 "cells": [
  {
   "cell_type": "markdown",
   "id": "c0d0549c",
   "metadata": {},
   "source": [
    "## **Data Wrangling**\n",
    "\n",
    "- Para criar `requirements.txt`:\n",
    "> poetry export -f requirements.txt --output requirements.txt --without-hashes"
   ]
  },
  {
   "cell_type": "markdown",
   "id": "8f0e519b",
   "metadata": {},
   "source": [
    "### **IMPORTS**"
   ]
  },
  {
   "cell_type": "code",
   "execution_count": 5,
   "id": "f17b23a7",
   "metadata": {},
   "outputs": [],
   "source": [
    "%load_ext autoreload\n",
    "%autoreload 2"
   ]
  },
  {
   "cell_type": "code",
   "execution_count": 6,
   "id": "7a1ebca0",
   "metadata": {},
   "outputs": [],
   "source": [
    "import os\n",
    "os.chdir(\"..\")"
   ]
  },
  {
   "cell_type": "code",
   "execution_count": 7,
   "id": "335755d0",
   "metadata": {},
   "outputs": [],
   "source": [
    "import pandas as pd"
   ]
  },
  {
   "cell_type": "markdown",
   "id": "1aec8b46",
   "metadata": {},
   "source": [
    "### **RAW**"
   ]
  },
  {
   "cell_type": "code",
   "execution_count": 4,
   "id": "42c65385",
   "metadata": {},
   "outputs": [],
   "source": [
    "offers = pd.read_json(\"data/raw/offers.json\")\n",
    "customers = pd.read_json(\"data/raw/profile.json\")\n",
    "transactions = pd.read_json(\"data/raw/transactions.json\")"
   ]
  },
  {
   "cell_type": "code",
   "execution_count": 5,
   "id": "d05d4b4c",
   "metadata": {},
   "outputs": [
    {
     "data": {
      "text/plain": [
       "(False, False, True)"
      ]
     },
     "execution_count": 5,
     "metadata": {},
     "output_type": "execute_result"
    }
   ],
   "source": [
    "offers[\"id\"].duplicated().any(), customers[\"id\"].duplicated().any(), transactions[\"account_id\"].duplicated().any()"
   ]
  },
  {
   "cell_type": "markdown",
   "id": "617a48a8",
   "metadata": {},
   "source": [
    "### **PREPROCESS**"
   ]
  },
  {
   "cell_type": "code",
   "execution_count": 6,
   "id": "fd777e14",
   "metadata": {},
   "outputs": [],
   "source": [
    "from src.preprocess import preprocess_customers_info, preprocess_transactions_info, join_campaigns_info\n",
    "\n",
    "customers_ = preprocess_customers_info(data=customers)\n",
    "transactions_ = preprocess_transactions_info(data=transactions)"
   ]
  },
  {
   "cell_type": "code",
   "execution_count": 7,
   "id": "008f278c",
   "metadata": {},
   "outputs": [
    {
     "data": {
      "text/plain": [
       "((10, 6), (17000, 5), (306534, 6), 17000)"
      ]
     },
     "execution_count": 7,
     "metadata": {},
     "output_type": "execute_result"
    }
   ],
   "source": [
    "# Total de: 10 ofertas, 17000 clientes, 306534 evento registrados, todos os clientes com registro\n",
    "offers.shape, customers_.shape, transactions_.shape, transactions_[\"account_id\"].nunique()"
   ]
  },
  {
   "cell_type": "code",
   "execution_count": 8,
   "id": "94eba1c4",
   "metadata": {},
   "outputs": [
    {
     "data": {
      "text/plain": [
       "(306534, 15)"
      ]
     },
     "execution_count": 8,
     "metadata": {},
     "output_type": "execute_result"
    }
   ],
   "source": [
    "data = join_campaigns_info(offers=offers, customers=customers_, transactions=transactions_)\n",
    "data.shape"
   ]
  },
  {
   "cell_type": "code",
   "execution_count": 9,
   "id": "5aa8e407",
   "metadata": {},
   "outputs": [
    {
     "data": {
      "text/plain": [
       "False"
      ]
     },
     "execution_count": 9,
     "metadata": {},
     "output_type": "execute_result"
    }
   ],
   "source": [
    "# Não há inconsistências entre o valor comunicado da oferta e os valores de desconto gerados\n",
    "((data[\"reward\"].notna()) & (data[\"discount_value\"] != data[\"reward\"])).any()"
   ]
  },
  {
   "cell_type": "code",
   "execution_count": 10,
   "id": "0b5ffb4b",
   "metadata": {},
   "outputs": [],
   "source": [
    "data.to_csv(\"data/processed/campaigns_data.csv\", index=False)"
   ]
  },
  {
   "cell_type": "markdown",
   "id": "60d18fa9",
   "metadata": {},
   "source": [
    "### **ENRICH**"
   ]
  },
  {
   "cell_type": "code",
   "execution_count": 11,
   "id": "80a3661b",
   "metadata": {},
   "outputs": [
    {
     "data": {
      "text/plain": [
       "(306534, 15)"
      ]
     },
     "execution_count": 11,
     "metadata": {},
     "output_type": "execute_result"
    }
   ],
   "source": [
    "import ast\n",
    "\n",
    "data = pd.read_csv(\"data/processed/campaigns_data.csv\")\n",
    "# Corrigindo tipos após carregamento do `.csv`\n",
    "# Não necessário se `data` for gerado no próprio notebook\n",
    "data[\"registered_on\"] = pd.to_datetime(data[\"registered_on\"])\n",
    "data[\"channels\"] = data[\"channels\"].apply(lambda x: ast.literal_eval(x) if pd.notnull(x) else x)\n",
    "\n",
    "data.shape"
   ]
  },
  {
   "cell_type": "code",
   "execution_count": 12,
   "id": "56131386",
   "metadata": {},
   "outputs": [
    {
     "data": {
      "text/plain": [
       "(306534, 16)"
      ]
     },
     "execution_count": 12,
     "metadata": {},
     "output_type": "execute_result"
    }
   ],
   "source": [
    "from src.preprocess import enricher_transactions_information\n",
    "# Funciona, mas ver uma forma de otimizar depois\n",
    "# 35s para 306534 linhas [ok]\n",
    "dataf = enricher_transactions_information(data)\n",
    "dataf.shape"
   ]
  },
  {
   "cell_type": "code",
   "execution_count": 13,
   "id": "c2e62179",
   "metadata": {},
   "outputs": [],
   "source": [
    "dataf.to_csv(\"data/processed/enriched_campaigns_data.csv\", index=False)"
   ]
  },
  {
   "cell_type": "markdown",
   "id": "2e2f611e",
   "metadata": {},
   "source": [
    "### **FEATURE ENGINERING**"
   ]
  },
  {
   "cell_type": "code",
   "execution_count": 18,
   "id": "d3b132de",
   "metadata": {},
   "outputs": [
    {
     "data": {
      "text/plain": [
       "(306534, 16)"
      ]
     },
     "execution_count": 18,
     "metadata": {},
     "output_type": "execute_result"
    }
   ],
   "source": [
    "import ast\n",
    "\n",
    "dataf = pd.read_csv(\"data/processed/enriched_campaigns_data.csv\")\n",
    "# Corrigindo tipos após carregamento do `.csv`\n",
    "# Não necessário se `dataf` for gerado no próprio notebook\n",
    "dataf[\"registered_on\"] = pd.to_datetime(dataf[\"registered_on\"])\n",
    "dataf[\"channels\"] = dataf[\"channels\"].apply(lambda x: ast.literal_eval(x) if pd.notnull(x) else x)\n",
    "\n",
    "dataf.shape"
   ]
  },
  {
   "cell_type": "code",
   "execution_count": 19,
   "id": "4494137c",
   "metadata": {},
   "outputs": [
    {
     "data": {
      "text/plain": [
       "(306534, 21)"
      ]
     },
     "execution_count": 19,
     "metadata": {},
     "output_type": "execute_result"
    }
   ],
   "source": [
    "from src.utils import (\n",
    "    built_target,\n",
    "    calculate_days_between_same_events,\n",
    "    calculate_days_between_receiving_viewing,\n",
    ")\n",
    "data_model = built_target(data=dataf)\n",
    "data_model = calculate_days_between_same_events(data=data_model)\n",
    "data_model = calculate_days_between_receiving_viewing(data=data_model)\n",
    "\n",
    "data_model.shape"
   ]
  },
  {
   "cell_type": "code",
   "execution_count": 20,
   "id": "59bdede4",
   "metadata": {},
   "outputs": [
    {
     "data": {
      "text/plain": [
       "((17000, 14), (63288, 18), (16994, 10), (63288, 3))"
      ]
     },
     "execution_count": 20,
     "metadata": {},
     "output_type": "execute_result"
    }
   ],
   "source": [
    "from src.utils import (\n",
    "    build_customer_features,\n",
    "    build_offer_features,\n",
    "    build_engagement_features\n",
    ")\n",
    "groupby_customer = [\"account_id\"]\n",
    "groupby_target = [\"account_id\", \"offer_id\"]\n",
    "groupby_offers = [\"account_id\", \"offer_id\", \"duration\", \"min_value\", \"discount_value\"]\n",
    "\n",
    "customer_feats = build_customer_features(data=data_model, agg_columns=groupby_customer)\n",
    "offers_feats = build_offer_features(data=data_model, agg_columns=groupby_offers)\n",
    "engagement_feats = build_engagement_features(data=offers_feats, agg_columns=groupby_customer)\n",
    "\n",
    "# Target: nível account_id + offer_id\n",
    "profile_offer_target = data_model.groupby(groupby_target)[\"target\"].max().reset_index()\n",
    "\n",
    "customer_feats.shape, offers_feats.shape, engagement_feats.shape, profile_offer_target.shape"
   ]
  },
  {
   "cell_type": "code",
   "execution_count": 21,
   "id": "4d5e35d0",
   "metadata": {},
   "outputs": [
    {
     "data": {
      "text/plain": [
       "(63288, 41)"
      ]
     },
     "execution_count": 21,
     "metadata": {},
     "output_type": "execute_result"
    }
   ],
   "source": [
    "from src.utils import unify_modeling_dataset\n",
    "data_model = unify_modeling_dataset(\n",
    "    offer_feats=offers_feats,\n",
    "    engagement_feats=engagement_feats,\n",
    "    customer_feats=customer_feats,\n",
    "    profile_offer_target=profile_offer_target,\n",
    ")\n",
    "data_model.columns = [col.replace(\" \", \"_\") for col in data_model.columns]\n",
    "data_model.shape"
   ]
  },
  {
   "cell_type": "code",
   "execution_count": 22,
   "id": "ded5e5ad",
   "metadata": {},
   "outputs": [
    {
     "data": {
      "text/plain": [
       "False"
      ]
     },
     "execution_count": 22,
     "metadata": {},
     "output_type": "execute_result"
    }
   ],
   "source": [
    "# dataset com registros (\"account_id\", \"offer_id\") únicos\n",
    "data_model[[\"account_id\", \"offer_id\"]].duplicated().any()"
   ]
  },
  {
   "cell_type": "code",
   "execution_count": 24,
   "id": "538c2725",
   "metadata": {},
   "outputs": [],
   "source": [
    "data_model.to_csv(\"data/processed/data_model.csv\", index=False)"
   ]
  },
  {
   "cell_type": "code",
   "execution_count": null,
   "id": "0d2e68d0",
   "metadata": {},
   "outputs": [],
   "source": []
  }
 ],
 "metadata": {
  "kernelspec": {
   "display_name": ".venv",
   "language": "python",
   "name": "python3"
  },
  "language_info": {
   "codemirror_mode": {
    "name": "ipython",
    "version": 3
   },
   "file_extension": ".py",
   "mimetype": "text/x-python",
   "name": "python",
   "nbconvert_exporter": "python",
   "pygments_lexer": "ipython3",
   "version": "3.10.14"
  }
 },
 "nbformat": 4,
 "nbformat_minor": 5
}
